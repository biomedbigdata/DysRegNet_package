{
 "cells": [
  {
   "cell_type": "code",
   "execution_count": 1,
   "id": "b15e0cd9-bcec-47ca-b095-326d208de825",
   "metadata": {},
   "outputs": [],
   "source": [
    "import dysregnet"
   ]
  },
  {
   "cell_type": "code",
   "execution_count": null,
   "id": "eb0a601a-632c-4abc-88d2-6be5d218b8ab",
   "metadata": {},
   "outputs": [],
   "source": [
    "import pandas as pd\n",
    "\n",
    "meta = pd.read_csv(\"test dataset/clinical.csv\")\n",
    "case = pd.read_csv(\"test dataset/expr_case.csv\" )\n",
    "control = pd.read_csv(\"test dataset/expr_control.csv\")\n",
    "grn=pd.read_csv(\"test dataset/HTRIdb_data.csv\", sep = \";\")\n"
   ]
  },
  {
   "cell_type": "code",
   "execution_count": null,
   "id": "ebebb019-4a9e-41d0-82ff-720806582d1d",
   "metadata": {},
   "outputs": [],
   "source": [
    "grn = grn[[\"SYMBOL_TF\",\"SYMBOL_TG\"]]\n",
    "expr=pd.concat([control,case])\n",
    "i=list(expr.iloc[:,0])\n",
    "meta=meta[ meta.iloc[:,0].isin(i)]\n",
    "meta.sample_type=meta.sample_type.apply(lambda x: 0 if x=='Solid Tissue Normal' else 1)\n",
    "meta[\"birth_days_to\"] = meta[\"birth_days_to\"].fillna(meta[\"birth_days_to\"].mean())\n"
   ]
  },
  {
   "cell_type": "markdown",
   "id": "adfea7e9-5378-4605-9493-2879b709c2b6",
   "metadata": {},
   "source": [
    "# Expression table "
   ]
  },
  {
   "cell_type": "code",
   "execution_count": null,
   "id": "4fec75f2-2aa7-4d38-acba-022fdf31dcc8",
   "metadata": {},
   "outputs": [],
   "source": [
    "expr.head(4)"
   ]
  },
  {
   "cell_type": "markdown",
   "id": "f1f275f6-ef96-4e1b-a37b-8bb96585395d",
   "metadata": {},
   "source": [
    "# Meta table \n"
   ]
  },
  {
   "cell_type": "code",
   "execution_count": null,
   "id": "143700c2-33b4-43a7-8091-fda17d57093b",
   "metadata": {},
   "outputs": [],
   "source": [
    "meta.head(4)"
   ]
  },
  {
   "cell_type": "markdown",
   "id": "09e307f0-80d5-49d2-8725-081acfe90813",
   "metadata": {},
   "source": [
    "# GRN table"
   ]
  },
  {
   "cell_type": "code",
   "execution_count": null,
   "id": "5c4773ff-7f02-410f-8ff2-f5aa02ad98f2",
   "metadata": {},
   "outputs": [],
   "source": [
    "grn.head(4)"
   ]
  },
  {
   "cell_type": "code",
   "execution_count": null,
   "id": "772c99ac-2ea0-4fb2-ade8-4adb644e70f5",
   "metadata": {},
   "outputs": [],
   "source": []
  },
  {
   "cell_type": "markdown",
   "id": "3ce91691-82a1-48c7-be6e-4e3c43b6fd86",
   "metadata": {},
   "source": [
    "# Define the design matrix from the meta table\n",
    "\n"
   ]
  },
  {
   "cell_type": "code",
   "execution_count": null,
   "id": "1244cf2e-396f-4cc9-9532-bf134b92f8e1",
   "metadata": {},
   "outputs": [],
   "source": [
    "CatCov=['race','gender']  \n",
    "ConCov=['birth_days_to',]"
   ]
  },
  {
   "cell_type": "code",
   "execution_count": null,
   "id": "b289029a-b0c2-4812-a623-8a48528234b3",
   "metadata": {},
   "outputs": [],
   "source": []
  },
  {
   "cell_type": "code",
   "execution_count": null,
   "id": "43ac057e-9d32-4a39-892a-0b728906e68f",
   "metadata": {},
   "outputs": [],
   "source": [
    "data=dysregnet.run(expression_data=expr,\n",
    "                   meta=meta, \n",
    "                   CatCov=CatCov,\n",
    "                   ConCov=ConCov,\n",
    "                   GRN=grn,\n",
    "                   normaltest=True,\n",
    "                   R2_threshold=.2,\n",
    "                   conCol='sample_type')"
   ]
  },
  {
   "cell_type": "code",
   "execution_count": null,
   "id": "b8791d43-05eb-4f64-a8aa-a7e2be784da5",
   "metadata": {},
   "outputs": [],
   "source": [
    "data.get_results()"
   ]
  },
  {
   "cell_type": "code",
   "execution_count": null,
   "id": "62d482da-f15d-4b16-8df9-3559030997a7",
   "metadata": {},
   "outputs": [],
   "source": [
    "data.get_results_binary()"
   ]
  },
  {
   "cell_type": "code",
   "execution_count": null,
   "id": "d313b820-2414-4d61-a121-cb3bb78b4ba1",
   "metadata": {},
   "outputs": [],
   "source": []
  },
  {
   "cell_type": "code",
   "execution_count": null,
   "id": "0aa5c03b-1886-4b06-a6dd-c7933a00046c",
   "metadata": {},
   "outputs": [],
   "source": []
  }
 ],
 "metadata": {
  "kernelspec": {
   "display_name": "Python 3 (ipykernel)",
   "language": "python",
   "name": "python3"
  },
  "language_info": {
   "codemirror_mode": {
    "name": "ipython",
    "version": 3
   },
   "file_extension": ".py",
   "mimetype": "text/x-python",
   "name": "python",
   "nbconvert_exporter": "python",
   "pygments_lexer": "ipython3",
   "version": "3.9.2"
  }
 },
 "nbformat": 4,
 "nbformat_minor": 5
}
